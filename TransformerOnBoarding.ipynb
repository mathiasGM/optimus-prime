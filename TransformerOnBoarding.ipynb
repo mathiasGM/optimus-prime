{
 "cells": [
  {
   "cell_type": "markdown",
   "metadata": {},
   "source": [
    "# Transformers\n",
    "https://github.com/huggingface/transformers"
   ]
  },
  {
   "cell_type": "markdown",
   "metadata": {},
   "source": [
    "## Pipelines"
   ]
  },
  {
   "cell_type": "markdown",
   "metadata": {},
   "source": [
    "High-level objects which automatically handle tokenization, running your data through a transformers model and outputting the result in a structured object."
   ]
  },
  {
   "cell_type": "code",
   "execution_count": 4,
   "metadata": {},
   "outputs": [],
   "source": [
    "from transformers import pipeline"
   ]
  },
  {
   "cell_type": "markdown",
   "metadata": {},
   "source": [
    "### Sentiment"
   ]
  },
  {
   "cell_type": "code",
   "execution_count": 6,
   "metadata": {},
   "outputs": [
    {
     "data": {
      "application/vnd.jupyter.widget-view+json": {
       "model_id": "9b720ef54afa4c3797b317c30fd151eb"
      }
     },
     "metadata": {},
     "output_type": "display_data"
    },
    {
     "name": "stdout",
     "output_type": "stream",
     "text": [
      "\n"
     ]
    },
    {
     "data": {
      "application/vnd.jupyter.widget-view+json": {
       "model_id": "15a492f40c6d40f09fb3d115b5d4171c"
      }
     },
     "metadata": {},
     "output_type": "display_data"
    },
    {
     "name": "stdout",
     "output_type": "stream",
     "text": [
      "\n"
     ]
    },
    {
     "data": {
      "application/vnd.jupyter.widget-view+json": {
       "model_id": "795543cc072f4724830cbbbde7c76970"
      }
     },
     "metadata": {},
     "output_type": "display_data"
    },
    {
     "name": "stdout",
     "output_type": "stream",
     "text": [
      "\n"
     ]
    },
    {
     "data": {
      "application/vnd.jupyter.widget-view+json": {
       "model_id": "06769d7374df47a6886d95923980eb1f"
      }
     },
     "metadata": {},
     "output_type": "display_data"
    },
    {
     "name": "stdout",
     "output_type": "stream",
     "text": [
      "\n"
     ]
    },
    {
     "name": "stderr",
     "output_type": "stream",
     "text": [
      "All model checkpoint weights were used when initializing TFDistilBertForSequenceClassification.\n",
      "\n",
      "All the weights of TFDistilBertForSequenceClassification were initialized from the model checkpoint at distilbert-base-uncased-finetuned-sst-2-english.\n",
      "If your task is similar to the task the model of the ckeckpoint was trained on, you can already use TFDistilBertForSequenceClassification for predictions without further training.\n"
     ]
    }
   ],
   "source": [
    "sentimentA = pipeline('sentiment-analysis')"
   ]
  },
  {
   "cell_type": "code",
   "execution_count": 10,
   "metadata": {},
   "outputs": [
    {
     "data": {
      "text/plain": [
       "[{'label': 'POSITIVE', 'score': 0.9997692704200745}]"
      ]
     },
     "execution_count": 10,
     "metadata": {},
     "output_type": "execute_result"
    }
   ],
   "source": [
    "sentimentA(\"This went very well\")"
   ]
  },
  {
   "cell_type": "markdown",
   "metadata": {},
   "source": [
    "### NER"
   ]
  },
  {
   "cell_type": "code",
   "execution_count": 11,
   "metadata": {},
   "outputs": [
    {
     "data": {
      "application/vnd.jupyter.widget-view+json": {
       "model_id": "802e3b8248fc43a3a2854a6f462cee2e"
      }
     },
     "metadata": {},
     "output_type": "display_data"
    },
    {
     "name": "stdout",
     "output_type": "stream",
     "text": [
      "\n"
     ]
    },
    {
     "data": {
      "application/vnd.jupyter.widget-view+json": {
       "model_id": "3fa20cdc850545c89e9d0d0fbcc76f67"
      }
     },
     "metadata": {},
     "output_type": "display_data"
    },
    {
     "name": "stdout",
     "output_type": "stream",
     "text": [
      "\n"
     ]
    },
    {
     "data": {
      "application/vnd.jupyter.widget-view+json": {
       "model_id": "e4a90448f9394c1587ea28ea6105d1fd"
      }
     },
     "metadata": {},
     "output_type": "display_data"
    },
    {
     "name": "stdout",
     "output_type": "stream",
     "text": [
      "\n"
     ]
    },
    {
     "data": {
      "application/vnd.jupyter.widget-view+json": {
       "model_id": "48db9fbb29d1402a82fe10f294390e12"
      }
     },
     "metadata": {},
     "output_type": "display_data"
    },
    {
     "name": "stdout",
     "output_type": "stream",
     "text": [
      "\n"
     ]
    },
    {
     "data": {
      "application/vnd.jupyter.widget-view+json": {
       "model_id": "065f3017f9744acca2b6fecfa2807aa0"
      }
     },
     "metadata": {},
     "output_type": "display_data"
    },
    {
     "name": "stdout",
     "output_type": "stream",
     "text": [
      "\n"
     ]
    },
    {
     "name": "stderr",
     "output_type": "stream",
     "text": [
      "Some weights of the model checkpoint at dbmdz/bert-large-cased-finetuned-conll03-english were not used when initializing TFBertForTokenClassification: ['dropout_147']\n",
      "- This IS expected if you are initializing TFBertForTokenClassification from the checkpoint of a model trained on another task or with another architecture (e.g. initializing a BertForSequenceClassification model from a BertForPretraining model).\n",
      "- This IS NOT expected if you are initializing TFBertForTokenClassification from the checkpoint of a model that you expect to be exactly identical (initializing a BertForSequenceClassification model from a BertForSequenceClassification model).\n",
      "Some weights of TFBertForTokenClassification were not initialized from the model checkpoint at dbmdz/bert-large-cased-finetuned-conll03-english and are newly initialized: ['dropout_93']\n",
      "You should probably TRAIN this model on a down-stream task to be able to use it for predictions and inference.\n"
     ]
    }
   ],
   "source": [
    "nerA = pipeline('ner')"
   ]
  },
  {
   "cell_type": "code",
   "execution_count": 16,
   "metadata": {},
   "outputs": [
    {
     "data": {
      "text/plain": [
       "[{'entity': 'I-PER',\n",
       "  'index': 1,\n",
       "  'score': 0.995712399482727,\n",
       "  'word': 'Mathias'},\n",
       " {'entity': 'I-ORG', 'index': 6, 'score': 0.7109400629997253, 'word': 'CB'},\n",
       " {'entity': 'I-ORG', 'index': 7, 'score': 0.6077383756637573, 'word': '##OT'}]"
      ]
     },
     "execution_count": 16,
     "metadata": {},
     "output_type": "execute_result"
    }
   ],
   "source": [
    "nerA(\"Mathias was working at CBOT.dk\")"
   ]
  },
  {
   "cell_type": "markdown",
   "metadata": {},
   "source": [
    "### Fill-mask"
   ]
  },
  {
   "cell_type": "code",
   "execution_count": 17,
   "metadata": {},
   "outputs": [
    {
     "data": {
      "application/vnd.jupyter.widget-view+json": {
       "model_id": "ddaf57c85cb6460ebc59c4ecbd1229ec"
      }
     },
     "metadata": {},
     "output_type": "display_data"
    },
    {
     "name": "stdout",
     "output_type": "stream",
     "text": [
      "\n"
     ]
    },
    {
     "data": {
      "application/vnd.jupyter.widget-view+json": {
       "model_id": "454f4733e85e4087ab94354cac18577d"
      }
     },
     "metadata": {},
     "output_type": "display_data"
    },
    {
     "name": "stdout",
     "output_type": "stream",
     "text": [
      "\n"
     ]
    },
    {
     "data": {
      "application/vnd.jupyter.widget-view+json": {
       "model_id": "c970128678ec45b3859a4c9b73f3abd8"
      }
     },
     "metadata": {},
     "output_type": "display_data"
    },
    {
     "name": "stdout",
     "output_type": "stream",
     "text": [
      "\n"
     ]
    },
    {
     "data": {
      "application/vnd.jupyter.widget-view+json": {
       "model_id": "1672e6534c3748c789c22cc1639dc643"
      }
     },
     "metadata": {},
     "output_type": "display_data"
    },
    {
     "name": "stdout",
     "output_type": "stream",
     "text": [
      "\n"
     ]
    },
    {
     "data": {
      "application/vnd.jupyter.widget-view+json": {
       "model_id": "4a4fb3f8f552447bbbbd550c558e889d"
      }
     },
     "metadata": {},
     "output_type": "display_data"
    },
    {
     "name": "stdout",
     "output_type": "stream",
     "text": [
      "\n"
     ]
    },
    {
     "name": "stderr",
     "output_type": "stream",
     "text": [
      "All model checkpoint weights were used when initializing TFRobertaForMaskedLM.\n",
      "\n",
      "All the weights of TFRobertaForMaskedLM were initialized from the model checkpoint at distilroberta-base.\n",
      "If your task is similar to the task the model of the ckeckpoint was trained on, you can already use TFRobertaForMaskedLM for predictions without further training.\n"
     ]
    }
   ],
   "source": [
    "fillMaskA = pipeline(\"fill-mask\")"
   ]
  },
  {
   "cell_type": "code",
   "execution_count": 19,
   "metadata": {},
   "outputs": [
    {
     "data": {
      "text/plain": [
       "[{'score': 0.1785833239555359,\n",
       "  'sequence': '<s>Elon Musk is most known for his tweets</s>',\n",
       "  'token': 6245,\n",
       "  'token_str': 'Ġtweets'},\n",
       " {'score': 0.128355473279953,\n",
       "  'sequence': '<s>Elon Musk is most known for his Tesla</s>',\n",
       "  'token': 4919,\n",
       "  'token_str': 'ĠTesla'},\n",
       " {'score': 0.059420883655548096,\n",
       "  'sequence': '<s>Elon Musk is most known for his SpaceX</s>',\n",
       "  'token': 14973,\n",
       "  'token_str': 'ĠSpaceX'},\n",
       " {'score': 0.03811254724860191,\n",
       "  'sequence': '<s>Elon Musk is most known for his inventions</s>',\n",
       "  'token': 39232,\n",
       "  'token_str': 'Ġinventions'},\n",
       " {'score': 0.02863607183098793,\n",
       "  'sequence': '<s>Elon Musk is most known for his genius</s>',\n",
       "  'token': 16333,\n",
       "  'token_str': 'Ġgenius'}]"
      ]
     },
     "execution_count": 19,
     "metadata": {},
     "output_type": "execute_result"
    }
   ],
   "source": [
    "fillMaskA(\"Elon Musk is most known for his <mask>\")"
   ]
  },
  {
   "cell_type": "markdown",
   "metadata": {},
   "source": [
    "## Load a pre-trained model"
   ]
  },
  {
   "cell_type": "code",
   "execution_count": 1,
   "metadata": {},
   "outputs": [],
   "source": [
    "import torch \n",
    "from transformers import BertModel, BertTokenizer"
   ]
  },
  {
   "cell_type": "markdown",
   "metadata": {},
   "source": [
    "Path to pre-trained model"
   ]
  },
  {
   "cell_type": "code",
   "execution_count": 2,
   "metadata": {},
   "outputs": [],
   "source": [
    "path = \"./danish_bert_uncased_v2\""
   ]
  },
  {
   "cell_type": "markdown",
   "metadata": {},
   "source": [
    "Alternatively, import pre-trained models from HuggingFace with 'from transformers import modelX'"
   ]
  },
  {
   "cell_type": "markdown",
   "metadata": {},
   "source": [
    "### Define model and tokenizer"
   ]
  },
  {
   "cell_type": "code",
   "execution_count": 3,
   "metadata": {},
   "outputs": [],
   "source": [
    "dkBERT = BertModel.from_pretrained(path)\n",
    "dkTokenizer = BertTokenizer.from_pretrained(path)"
   ]
  },
  {
   "cell_type": "code",
   "execution_count": 4,
   "metadata": {},
   "outputs": [],
   "source": [
    "txt_input = \"I 2050 har vi landet mennesker på Mars\""
   ]
  },
  {
   "cell_type": "markdown",
   "metadata": {},
   "source": [
    "#### Tokenize"
   ]
  },
  {
   "cell_type": "markdown",
   "metadata": {},
   "source": [
    "-- Simple --"
   ]
  },
  {
   "cell_type": "code",
   "execution_count": 5,
   "metadata": {},
   "outputs": [
    {
     "data": {
      "text/plain": [
       "['i', '20', '##50', 'har', 'vi', 'landet', 'mennesker', 'pa', 'mars']"
      ]
     },
     "execution_count": 5,
     "metadata": {},
     "output_type": "execute_result"
    }
   ],
   "source": [
    "dkTokenizer.tokenize(txt_input)"
   ]
  },
  {
   "cell_type": "markdown",
   "metadata": {},
   "source": [
    "-- Tensors -- "
   ]
  },
  {
   "cell_type": "code",
   "execution_count": 6,
   "metadata": {},
   "outputs": [
    {
     "name": "stdout",
     "output_type": "stream",
     "text": [
      "{'input_ids': tensor([[    2,    23,   284,  2364,    87,    54,  2223,   909,  2800, 20192,\n",
      "             3]]), 'token_type_ids': tensor([[0, 0, 0, 0, 0, 0, 0, 0, 0, 0, 0]]), 'attention_mask': tensor([[1, 1, 1, 1, 1, 1, 1, 1, 1, 1, 1]])}\n"
     ]
    }
   ],
   "source": [
    "tokenizerOut = dkTokenizer(txt_input,return_tensors = \"pt\")\n",
    "print(tokenizerOut)"
   ]
  },
  {
   "cell_type": "code",
   "execution_count": 19,
   "metadata": {},
   "outputs": [
    {
     "name": "stdout",
     "output_type": "stream",
     "text": [
      "Tokens IDs (Int):   [2, 23, 284, 2364, 87, 54, 2223, 909, 2800, 20192, 3]\n"
     ]
    }
   ],
   "source": [
    "print(\"Tokens IDs (Int):   {}\".format(tokenizerOut['input_ids'].tolist()[0]))"
   ]
  },
  {
   "cell_type": "code",
   "execution_count": 8,
   "metadata": {},
   "outputs": [
    {
     "name": "stdout",
     "output_type": "stream",
     "text": [
      "[CLS]\n",
      "i\n",
      "20\n",
      "##50\n",
      "har\n",
      "vi\n",
      "landet\n",
      "mennesker\n",
      "pa\n",
      "mars\n",
      "[SEP]\n"
     ]
    }
   ],
   "source": [
    "for s in tokenizerOut['input_ids'].tolist()[0]:\n",
    "    print(dkTokenizer.convert_ids_to_tokens(s))"
   ]
  },
  {
   "cell_type": "code",
   "execution_count": 10,
   "metadata": {},
   "outputs": [
    {
     "name": "stdout",
     "output_type": "stream",
     "text": [
      "Token wise output: torch.Size([1, 11, 768]), Pooled output: torch.Size([1, 768])\n"
     ]
    }
   ],
   "source": [
    "output, pooled = dkBERT(**tokenizerOut)\n",
    "\n",
    "print(\"Token wise output: {}, Pooled output: {}\".format(output.shape, pooled.shape))"
   ]
  },
  {
   "cell_type": "markdown",
   "metadata": {},
   "source": [
    "## Using the models \n",
    "What can we use these models for?"
   ]
  },
  {
   "cell_type": "markdown",
   "metadata": {},
   "source": [
    "### Word and sentence encoding"
   ]
  },
  {
   "cell_type": "markdown",
   "metadata": {},
   "source": [
    "Inspired by:\n",
    "https://stackoverflow.com/questions/59030907/nlp-transformers-best-way-to-get-a-fixed-sentence-embedding-vector-shape"
   ]
  },
  {
   "cell_type": "code",
   "execution_count": 32,
   "metadata": {},
   "outputs": [],
   "source": [
    "dkBERT = BertModel.from_pretrained(path,output_hidden_states = True)\n",
    "dkTokenizer = BertTokenizer.from_pretrained(path)"
   ]
  },
  {
   "cell_type": "code",
   "execution_count": 47,
   "metadata": {},
   "outputs": [],
   "source": [
    "# Method that extracts the CLS token to represent a word or sentence embedding\n",
    "def getEmbedding(txt,model,tokenixer):\n",
    "    \n",
    "    token_ids = dkTokenizer.encode(txt)\n",
    "    tokens = [dkTokenizer._convert_id_to_token(idx) for idx in token_ids]\n",
    "    print(tokens)\n",
    "    \n",
    "    # unsqueeze token_ids because batch_size=1\n",
    "    token_ids = torch.tensor(token_ids).unsqueeze(0)\n",
    "    \n",
    "    output = dkBERT(token_ids)[0].squeeze()\n",
    "    \n",
    "    # only grab output of CLS token (<s>), which is the first token\n",
    "    cls_out = output[0]\n",
    "    \n",
    "    print(cls_out.size())\n",
    "    \n",
    "    return cls_out"
   ]
  },
  {
   "cell_type": "code",
   "execution_count": 48,
   "metadata": {},
   "outputs": [],
   "source": [
    "word = \"Mars\"\n",
    "sentence = \"I 2050 har vi landet mennesker på Mars\""
   ]
  },
  {
   "cell_type": "markdown",
   "metadata": {},
   "source": [
    "#### Word embedding"
   ]
  },
  {
   "cell_type": "code",
   "execution_count": 49,
   "metadata": {},
   "outputs": [
    {
     "name": "stdout",
     "output_type": "stream",
     "text": [
      "['[CLS]', 'mars', '[SEP]']\n",
      "torch.Size([768])\n"
     ]
    },
    {
     "data": {
      "text/plain": [
       "tensor([ 1.0235e+00,  1.5655e-01,  1.1787e+00, -7.4808e-01,  3.9829e-01,\n",
       "         9.6537e-01, -1.9184e-01,  8.2183e-01,  7.1435e-01, -3.6223e-01,\n",
       "         1.2966e+00, -1.8682e-01, -1.9217e-01,  1.8919e-01,  8.6612e-01,\n",
       "         9.8193e-01, -1.2436e+00,  7.7368e-01,  1.0591e+00, -1.8178e+00,\n",
       "        -7.3825e-01,  4.6880e-01, -4.9287e-01,  1.2163e+00, -1.2437e+00,\n",
       "        -5.8814e-01, -1.9162e-01, -1.4583e+00,  1.6911e-01,  4.1626e-01,\n",
       "        -3.3694e-01, -9.1035e-01,  1.6270e+00, -1.3170e-01, -3.8462e-01,\n",
       "         3.1265e-02, -3.5563e-01,  7.7417e-01,  2.6427e+00,  5.9702e-02,\n",
       "        -3.6986e-01, -1.1797e+00, -7.8518e-01, -1.0237e+00,  5.4205e-01,\n",
       "         3.7188e-01,  5.6524e-01, -1.0491e+00,  2.1418e-01, -1.3997e-01,\n",
       "        -1.8762e+00, -1.6009e+00,  1.6747e+00, -3.3313e-01,  1.4981e-01,\n",
       "         1.0822e+00, -1.3556e+00, -9.3150e-02,  6.0614e-01,  8.5925e-01,\n",
       "         5.7432e-01,  7.4320e-01, -5.5337e-01, -6.3786e-01, -1.8242e+00,\n",
       "        -6.3919e-01,  3.6784e-01, -1.4042e+00,  8.2233e-02, -4.0797e-01,\n",
       "         1.1134e+00,  1.1635e+00,  8.0641e-01,  1.1327e+00, -3.2936e-01,\n",
       "        -8.8574e-02, -7.1950e-01, -1.7200e+00, -1.5833e-01,  2.2097e-01,\n",
       "        -7.2007e-01, -5.2525e-01,  2.2502e+00, -1.0567e+00, -1.4522e+00,\n",
       "         7.3235e-01, -1.5217e+00, -1.3240e+00,  3.2918e-02,  6.7689e-01,\n",
       "        -1.3860e-01, -3.0853e-01,  5.1950e-01,  2.2056e+00, -1.0723e+00,\n",
       "         1.3294e-01, -2.9231e-01,  1.1359e+00, -6.3304e-01, -1.1922e+00,\n",
       "         7.3555e-01,  9.8652e-01,  2.7017e-02, -6.5227e-01,  7.2632e-01,\n",
       "         1.4508e+00,  3.2078e-01,  9.1904e-01, -1.8894e+00,  3.5210e-01,\n",
       "         1.1884e+00,  4.9581e-01,  3.4829e-01, -1.8133e-01,  1.7155e-02,\n",
       "         1.8015e-01, -1.7707e+00,  1.0078e+00,  1.5904e+00,  3.5351e-02,\n",
       "         1.1385e+00,  1.7240e-01,  7.3018e-01,  1.3262e+00, -3.1734e-01,\n",
       "         9.1589e-01,  8.6354e-01, -7.5781e-01, -8.3860e-01, -1.2675e-01,\n",
       "         2.3386e-01,  5.8728e-01, -6.8267e-01, -5.0642e-02,  8.7822e-01,\n",
       "         1.0870e+00, -1.2529e+00, -1.1537e+00, -7.9816e-01, -2.4409e+00,\n",
       "         2.2336e-01, -1.6775e+00, -4.2213e-01,  1.5716e+00, -2.2799e-01,\n",
       "        -2.9942e-01, -1.3040e+00,  1.7451e-01, -1.0533e-01,  2.2436e+00,\n",
       "        -1.0634e+00,  8.6966e-01, -1.9445e+00, -2.9608e-01,  6.5043e-01,\n",
       "         1.7693e-01, -7.1930e-02,  3.1379e-01, -8.7064e-02, -2.9934e-02,\n",
       "         1.0321e+00,  2.4406e+00,  3.5960e-01,  5.3096e-01,  3.5040e-01,\n",
       "        -9.5141e-01, -4.0245e-01, -1.6675e+00,  1.4326e+00, -1.6505e+00,\n",
       "         1.0936e+00,  9.2896e-01, -3.3907e-01,  1.6845e+00, -8.8542e-01,\n",
       "         9.0321e-01,  7.8735e-01, -9.5607e-01,  1.6851e+00, -5.4266e-01,\n",
       "        -5.1291e-01,  9.3674e-01, -4.8417e-01,  1.4262e-01, -4.8752e-01,\n",
       "        -4.3526e-01,  1.3941e-01,  1.6184e+00,  1.7974e+00,  3.0962e-01,\n",
       "        -4.8393e+00,  9.3512e-01, -1.7273e+00, -2.2100e-03, -1.6568e+00,\n",
       "        -1.0714e+00,  1.0989e+00,  9.6597e-02,  1.8498e-01, -3.7623e-01,\n",
       "        -1.7288e+00, -4.7671e-01, -9.3660e-01, -1.1255e-01,  4.7175e-01,\n",
       "        -1.3646e-01,  1.2029e+00,  6.3851e-01, -1.7833e+00, -6.5026e-01,\n",
       "        -1.5207e+00, -4.7253e-01, -1.1467e-02, -1.3254e+00,  2.6511e+00,\n",
       "         9.7891e-03,  3.6853e-01, -9.3174e-01,  9.0635e-01,  1.0879e+00,\n",
       "        -7.4316e-02, -4.5783e-01, -5.1276e-01, -2.7891e-01,  1.0003e+00,\n",
       "         1.5803e-01,  2.3585e-01,  1.6736e-01, -4.3190e-01, -7.0850e-01,\n",
       "        -1.3408e-01,  2.1480e-01,  5.1661e-02, -1.2052e+00, -1.8517e+00,\n",
       "        -5.2687e-01,  2.2686e-01,  2.4497e-01,  2.0542e+00, -7.1805e-02,\n",
       "        -2.4128e-01,  7.2522e-01, -9.7763e-01,  1.9479e+00,  6.7595e-01,\n",
       "        -4.3878e-03,  8.2214e-01, -2.6393e-02,  1.7893e+00,  7.1446e-01,\n",
       "         4.5664e-01,  8.6301e-01,  1.5916e-02, -1.2252e+00,  1.2334e-01,\n",
       "        -5.9212e-01,  1.2776e+00,  2.6306e-01,  2.1600e-01,  6.8599e-01,\n",
       "         2.2134e-01,  2.6314e+00, -1.4509e-01, -4.0209e-01, -5.9376e-01,\n",
       "         5.8390e-01,  1.2704e+00,  5.3779e-01,  3.7658e-01, -1.3444e+00,\n",
       "         6.3063e-02,  8.0923e-01, -1.2713e+00,  1.4684e-02,  1.7155e+00,\n",
       "        -1.0944e+00, -9.7433e-02,  2.6172e-01,  2.9558e-01, -4.3104e-01,\n",
       "         4.0623e-01,  2.1139e+00, -8.5813e-02, -2.6479e-01,  1.1867e+00,\n",
       "         7.0606e-01, -4.0951e-01, -1.2874e+00,  4.8532e-01,  7.2393e-01,\n",
       "         1.3578e+00,  1.2166e+00,  4.2651e-01, -1.0892e+00,  7.6971e-02,\n",
       "        -5.9476e-01,  1.8301e-01,  1.7540e-01,  3.8795e-01,  1.7359e+00,\n",
       "         6.4561e-01,  1.8783e-01,  2.5622e-03,  9.6412e-01,  8.1784e-01,\n",
       "         1.3965e+00,  2.6918e-01,  2.5027e-01,  1.5883e-01,  1.2200e+00,\n",
       "         1.3932e+00,  1.1486e+00,  1.2289e+00,  1.0007e+00,  5.5766e-01,\n",
       "        -1.0794e+00, -1.3878e+00,  7.5184e-02, -6.0821e-01,  1.1829e+00,\n",
       "        -3.5293e-01, -3.7310e-02, -7.7790e-01,  3.3480e-01,  5.0358e-01,\n",
       "        -1.9134e+00, -1.1665e+00,  1.2950e+00, -5.0511e-02, -2.0666e-01,\n",
       "        -1.5776e-01,  1.6777e-01,  2.7736e-01, -9.5783e-01, -3.7940e-01,\n",
       "        -2.4862e-01, -3.8105e-02,  1.1369e-01,  5.1691e-02, -2.6001e+00,\n",
       "        -1.9243e-01,  7.4284e-01,  2.2166e+00,  1.3666e+00, -1.0059e+00,\n",
       "         1.0210e+00,  2.4980e+00,  6.9173e-01,  2.3164e-01, -9.9939e-01,\n",
       "        -3.2282e-01,  1.3752e+00,  3.8097e-01,  1.0287e+00, -8.0022e-02,\n",
       "         1.6472e-01,  7.8726e-01,  1.3900e+00,  5.4617e-01, -2.8651e-01,\n",
       "        -1.3791e+00,  7.2981e-02,  1.5345e-01,  6.7530e-02, -1.6008e+00,\n",
       "         6.9911e-01,  1.6836e-01, -2.3044e-01,  1.0489e+00,  5.3916e-01,\n",
       "         4.8967e-01, -8.2357e-01, -8.0687e-01, -2.0809e-01,  8.8923e-01,\n",
       "        -1.8721e-01,  5.9234e-01, -1.3277e+00, -2.4474e-01,  1.2657e-01,\n",
       "         5.8041e-01, -6.2579e-01,  8.4952e-01, -1.2765e+00, -5.1734e-01,\n",
       "        -3.5051e-02, -2.4501e-01, -1.6377e-01, -4.8023e-01,  6.8971e-01,\n",
       "         9.3777e-01, -1.3423e+00,  3.1952e-01,  1.0943e+00, -4.6546e-01,\n",
       "         8.3656e-02, -1.3319e+00,  9.6535e-01,  6.2418e-01,  9.3496e-01,\n",
       "        -1.6017e-01,  6.6336e-01,  3.3176e-01,  4.9389e-01, -2.7915e-01,\n",
       "         1.1225e-01,  3.1489e-01, -7.4751e-01, -1.1554e+00,  1.4220e+00,\n",
       "         9.1171e-01, -3.7781e-01, -3.8745e-01, -2.0016e-01,  3.1761e-01,\n",
       "        -6.0859e-01, -2.6470e-02,  3.6725e-01, -8.1924e-01, -2.4453e-01,\n",
       "         8.9610e-01, -1.2316e-02,  4.4700e-02,  1.4513e-01, -5.9544e-01,\n",
       "         7.7486e-01, -1.8640e+00, -3.6727e-01, -4.5903e-01,  1.1334e+00,\n",
       "         6.4504e-01, -1.9298e+00,  9.4942e-02, -1.3652e+00, -1.0023e+00,\n",
       "         9.3838e-01,  6.7392e-01, -9.6142e-01, -2.2968e-01, -9.2125e-02,\n",
       "         1.5766e+00,  5.2482e-01,  1.0129e+00, -8.2528e-01, -2.1966e-01,\n",
       "         1.2687e+00, -2.9112e-01,  3.5312e-01,  9.0573e-01, -1.0976e+00,\n",
       "        -3.9855e-01,  8.1546e-01, -5.0017e-02,  8.8667e-01, -1.1769e-01,\n",
       "        -2.8686e-01,  1.4150e+00,  4.3180e-01,  1.6308e+00,  7.4888e-01,\n",
       "         7.9081e-01, -9.3551e-01, -5.6145e-01,  1.2929e+00, -5.4746e-01,\n",
       "         6.7530e-01,  4.4666e-01,  1.0186e+00,  5.0573e-01, -1.0748e+00,\n",
       "         1.4580e+00,  5.2866e-01, -8.0967e-04,  1.4712e+00,  2.8529e-01,\n",
       "         1.2865e+00,  1.1875e+00,  1.8381e+00,  4.3881e-01, -1.5431e-01,\n",
       "         1.6210e+00,  1.9415e+00, -1.7374e+00, -1.6372e-01,  4.1246e-01,\n",
       "        -5.3565e-01, -6.2866e-01, -1.8659e+00,  9.8411e-01,  5.0742e-01,\n",
       "         6.3983e-01,  1.0189e+00, -2.7126e-01, -4.0887e-01, -2.4742e-01,\n",
       "         1.2741e+00,  6.5902e-01, -2.0248e+00,  1.1689e+00,  1.4309e+00,\n",
       "         1.2009e+00, -1.7159e+00, -8.7083e-01,  3.3807e-01,  9.1257e-01,\n",
       "        -2.8087e-01,  3.2777e-01,  9.2953e-02,  1.4024e-01, -2.1685e+00,\n",
       "         1.8649e-01, -1.9896e+00,  2.8533e-01,  8.2484e-02,  1.0302e+00,\n",
       "         2.2026e-01, -4.2005e-01, -1.4774e+00, -5.1533e-01,  1.4086e+00,\n",
       "        -2.6130e-01,  3.5609e-01, -3.7908e-01, -1.5322e+00,  3.7261e-01,\n",
       "        -1.0734e+00, -1.1390e+00, -1.5415e+00,  2.4672e-01, -5.7205e-01,\n",
       "        -1.8929e+00, -1.0024e+00, -1.0160e+00,  1.3196e-01,  4.5555e-02,\n",
       "        -2.1571e-02,  2.0558e+00,  6.5139e-01, -1.1286e+00,  1.5510e-01,\n",
       "        -9.0592e-01, -2.4225e-01,  9.1944e-01,  1.9056e-01, -3.9331e-01,\n",
       "         5.2192e-01, -1.3275e+00,  1.5018e-01, -1.0246e+00,  1.3329e+00,\n",
       "         1.9254e-01, -1.5152e-01, -5.3666e-01, -1.3405e+00, -1.0105e+00,\n",
       "         8.3012e-01,  9.2175e-01,  9.0291e-01, -1.9722e-01,  1.4684e-01,\n",
       "        -3.6710e-01,  1.2130e+00, -1.0237e+00, -2.9109e-02,  7.0222e-01,\n",
       "        -7.7946e-02, -2.5975e-02, -3.6746e-01, -2.1494e+00,  8.8245e-02,\n",
       "        -5.9325e-01,  2.9514e-01, -8.6975e-01,  6.8408e-01, -8.1493e-01,\n",
       "        -3.0023e-01,  3.7768e-01, -3.2419e-01, -4.6520e-01,  4.5633e-01,\n",
       "        -8.2553e-01, -7.0641e-02,  1.7486e-01,  2.9684e-01,  1.0245e+00,\n",
       "        -9.2857e-01,  1.0900e+00, -4.7792e-01, -7.1365e-01, -1.6615e-01,\n",
       "        -5.0054e-01, -1.4414e+00, -1.3391e+00, -1.2496e+00,  1.1912e+00,\n",
       "        -2.0762e-01,  1.4829e-01, -4.1370e-02,  6.5278e-01, -3.3002e-01,\n",
       "        -4.1487e-01,  4.0469e-01,  1.6937e+00,  2.2998e-01, -7.9172e-01,\n",
       "         1.1765e-01, -2.6232e-01,  3.3260e-01, -8.0753e-01, -2.8782e-01,\n",
       "         9.0261e-01, -1.1876e-01, -1.3832e+00, -4.9612e-02, -5.0564e-01,\n",
       "         1.0898e+00, -2.4682e+00, -2.3233e-01,  1.0877e+00,  9.2878e-01,\n",
       "         1.0846e+00, -4.3834e-01,  1.8977e-01,  9.2196e-01,  7.2045e-01,\n",
       "         1.2451e+00, -2.8673e-01, -6.4897e-01, -1.0898e+00, -4.4375e-02,\n",
       "         1.9630e-01,  7.6623e-01, -1.3865e-01, -2.6233e-01,  2.0466e+00,\n",
       "        -9.2167e-01,  9.4355e-01, -1.0084e+00, -5.9108e-01, -9.7867e-01,\n",
       "         8.0818e-01, -5.2273e-01, -9.4605e-02, -1.1360e+00, -1.7995e-02,\n",
       "         1.0728e+00, -1.1259e+00, -2.1496e+00,  2.1629e-01,  3.8390e-01,\n",
       "         2.5415e-01,  1.0339e+00,  1.9663e+00,  1.4566e+00,  1.9938e+00,\n",
       "         2.2859e-01, -4.2107e-01,  2.5118e+00,  1.0332e-02,  6.1959e-01,\n",
       "        -6.6258e-01, -1.8741e+00,  1.1524e+00,  9.5711e-02, -1.0108e-01,\n",
       "         2.8544e-01,  9.0285e-01,  1.0026e+00, -5.0839e-01,  4.6806e-01,\n",
       "        -4.4532e-01,  8.6045e-02, -1.5711e-02,  1.7662e+00,  7.0632e-01,\n",
       "         9.3732e-02,  6.3837e-01, -7.7224e-01, -7.1789e-01,  1.5279e-01,\n",
       "         2.3141e-01,  7.1581e-01,  5.4179e-01, -5.4718e-01, -9.2464e-01,\n",
       "         8.6304e-01,  3.9659e-01, -5.7791e-01, -2.2112e+00,  5.7644e-01,\n",
       "         2.0341e+00,  1.1128e+00, -4.4711e-01, -1.1667e+00,  7.4705e-01,\n",
       "        -6.5973e-01,  1.1093e+00,  1.6552e+00,  1.1993e+00,  4.4272e-01,\n",
       "        -1.4394e-01, -4.7108e-01, -4.6758e-01,  1.3255e-01, -1.6221e-01,\n",
       "         2.5208e-01,  1.4753e+00, -2.8421e-02, -6.3297e-01,  6.9272e-02,\n",
       "         9.2088e-01,  8.2682e-01,  1.0827e+00, -3.2911e-03, -1.0252e-01,\n",
       "        -1.8371e-01,  1.1094e+00, -2.4577e-02,  8.6585e-02,  4.7736e-01,\n",
       "        -7.8774e-02,  4.4990e-01,  3.6677e-01, -5.2315e-01,  4.3169e-02,\n",
       "        -7.4537e-01,  3.2701e-01, -5.6827e-01,  6.7282e-01,  2.1707e+00,\n",
       "        -6.8786e-01, -9.7582e-01,  5.6763e-01,  5.2253e-01,  1.1781e-01,\n",
       "        -7.1203e-01,  2.1336e-01,  1.8366e+00,  9.3138e-01, -9.4055e-01,\n",
       "        -1.0255e+00,  2.0305e-02,  3.1578e-01,  3.2944e-01,  1.8795e-01,\n",
       "         5.7951e-01, -4.4126e-02, -1.0074e+00,  1.4310e+00,  1.4321e+00,\n",
       "         2.8985e-01, -2.1706e-01,  1.2545e+00,  5.2949e-01,  1.5259e+00,\n",
       "        -7.7215e-01,  1.5023e+00,  2.5369e-01,  3.0830e-01, -8.3853e-01,\n",
       "        -4.2776e-01, -4.3591e-02, -1.3134e-01,  6.6528e-01, -2.3061e-01,\n",
       "         1.7447e+00,  6.9055e-01, -1.3596e-01], grad_fn=<SelectBackward>)"
      ]
     },
     "execution_count": 49,
     "metadata": {},
     "output_type": "execute_result"
    }
   ],
   "source": [
    "getEmbedding(word,dkBERT,dkTokenizer)"
   ]
  },
  {
   "cell_type": "markdown",
   "metadata": {},
   "source": [
    "#### Sentence embedding"
   ]
  },
  {
   "cell_type": "code",
   "execution_count": 51,
   "metadata": {},
   "outputs": [
    {
     "name": "stdout",
     "output_type": "stream",
     "text": [
      "['[CLS]', 'i', '20', '##50', 'har', 'vi', 'landet', 'mennesker', 'pa', 'mars', '[SEP]']\n",
      "torch.Size([768])\n"
     ]
    },
    {
     "data": {
      "text/plain": [
       "tensor([-7.0074e-02, -1.5375e-01,  9.6407e-01, -6.9426e-01, -1.0307e+00,\n",
       "        -2.3426e-01, -1.3878e-02,  3.1126e-01,  4.8216e-01,  4.9639e-01,\n",
       "        -4.4069e-01,  1.0063e+00, -3.8668e-01,  9.6935e-01,  1.7124e+00,\n",
       "         1.4785e+00, -1.9425e+00,  8.0044e-02,  1.3573e+00,  5.4714e-01,\n",
       "        -3.0976e-01, -1.9292e-01, -1.1168e+00,  1.6637e+00,  1.2820e+00,\n",
       "        -1.5019e-01,  8.4022e-01, -7.0297e-01, -5.0812e-01,  7.3498e-01,\n",
       "        -7.8397e-01, -3.7334e-01,  2.2746e+00,  1.4282e-01,  2.3258e-01,\n",
       "        -6.5614e-01, -1.5285e+00,  1.3343e+00, -3.0222e-01,  5.9527e-01,\n",
       "        -8.3338e-01,  1.0624e+00, -1.9505e+00, -2.3034e-01, -3.7374e-01,\n",
       "         9.0723e-01, -2.5357e-01, -2.8921e-01,  3.2808e-01,  1.1954e+00,\n",
       "         9.7675e-02, -1.2382e+00,  1.8711e+00, -6.6124e-01,  7.7680e-01,\n",
       "         5.0256e-01, -3.3653e-01,  1.9513e-01, -3.2537e-01,  2.2593e-01,\n",
       "         1.1361e+00,  4.6688e-02, -9.2415e-01,  6.5728e-01, -6.4385e-02,\n",
       "        -1.1976e-01,  3.9558e-01,  5.8848e-01,  1.2661e+00,  4.8204e-01,\n",
       "        -2.3360e-01,  3.1643e-01,  3.1505e-01,  1.2819e+00,  8.6370e-01,\n",
       "        -4.6263e-01, -8.4889e-01, -7.6804e-01,  2.8133e-01, -1.8451e-01,\n",
       "        -3.5348e-01,  1.5472e+00, -1.9251e-01, -3.2690e-01, -9.1311e-01,\n",
       "         1.1895e-01,  1.4134e-01,  4.4863e-01,  6.9104e-01,  1.0004e+00,\n",
       "        -5.0756e-01, -9.1491e-01,  7.4950e-01, -1.0304e+00, -5.1448e-01,\n",
       "        -1.3849e+00,  8.0388e-01,  1.7055e-02,  6.0934e-01, -3.0150e-01,\n",
       "        -8.2278e-01,  1.2977e-01, -7.5517e-01,  3.1841e-02,  8.8067e-01,\n",
       "         6.8345e-01, -1.1558e+00,  2.6082e-01, -4.2624e-01,  2.0898e+00,\n",
       "         5.2085e-01,  1.9896e-01,  5.4859e-01,  1.2143e+00, -5.2945e-01,\n",
       "        -7.8096e-01,  4.4742e-01, -2.6900e-01,  1.2202e+00, -5.6177e-01,\n",
       "         4.7159e-01,  3.5317e-01,  4.0387e-01,  2.0910e+00, -1.4769e+00,\n",
       "         1.0668e+00,  5.2279e-01,  5.5917e-01,  1.5900e+00, -1.4355e+00,\n",
       "         1.2578e+00,  9.2308e-01, -1.4244e-01, -1.0774e+00,  8.0560e-01,\n",
       "         1.0022e+00,  5.1080e-01, -1.0256e+00,  1.6860e-01, -1.4645e+00,\n",
       "        -4.2042e-01,  7.3315e-01,  8.3668e-01,  1.4482e+00,  1.1849e+00,\n",
       "         8.0555e-02,  7.0472e-02,  6.2292e-01, -2.2449e-01,  1.0145e+00,\n",
       "        -7.9664e-01,  1.1151e+00, -1.3701e+00,  1.2212e+00, -2.0576e-01,\n",
       "         1.7707e-01,  9.6101e-01, -5.3768e-01,  5.4164e-01,  1.2970e-01,\n",
       "         2.9686e-01,  1.0904e+00,  7.0512e-01, -7.7107e-01,  1.0859e+00,\n",
       "         3.6821e-01, -4.7179e-01,  7.3602e-01,  1.4264e+00,  1.7404e-01,\n",
       "        -4.9894e-01,  7.3833e-01, -1.6565e+00,  4.9689e-01, -6.4371e-01,\n",
       "         4.6123e-01,  1.6144e+00, -4.8156e-02,  5.0496e-01,  3.9274e-01,\n",
       "        -8.8381e-01, -5.6356e-01, -5.1423e-01,  1.0773e+00, -6.1124e-01,\n",
       "         1.0011e+00, -1.1331e+00,  1.2015e+00,  1.4041e+00,  1.9802e+00,\n",
       "        -4.8014e+00,  8.3582e-01, -1.0812e+00,  9.3399e-03,  6.0823e-01,\n",
       "        -3.2990e-01, -1.0012e-01,  1.3836e-01, -6.7793e-01, -2.9474e-01,\n",
       "        -2.2043e-02,  1.3747e+00, -1.3895e+00, -5.9118e-01,  1.0740e-01,\n",
       "        -1.8447e+00,  1.4787e+00,  9.4341e-01,  5.4869e-01,  3.7346e-01,\n",
       "         1.4406e+00,  9.9458e-01, -4.0115e-01, -1.7091e+00,  2.9790e+00,\n",
       "         1.0705e+00, -1.9225e-01,  5.8240e-01,  3.3614e-02,  7.2660e-02,\n",
       "        -1.9431e-01, -1.2002e-01,  4.3333e-02, -9.7528e-01,  6.7535e-01,\n",
       "         8.2977e-01,  1.3711e-01,  5.6759e-02, -1.1851e+00, -6.5652e-01,\n",
       "        -3.5798e-01, -1.3815e-01, -1.5415e-01, -1.2973e+00, -2.7025e-01,\n",
       "        -2.3010e-01, -5.8940e-01, -6.9453e-01,  1.9795e+00,  3.2553e-01,\n",
       "        -8.5440e-01,  1.5666e+00, -1.8655e-01,  5.3765e-01,  9.2666e-01,\n",
       "         1.9124e+00,  9.3516e-02,  3.5199e-01,  3.4350e+00,  2.3910e-01,\n",
       "         3.6995e-01,  1.8586e-01,  5.3562e-01, -1.1059e+00, -9.5281e-01,\n",
       "        -9.9496e-01, -3.8152e-02, -2.2923e-01, -2.6086e-01,  1.8979e-01,\n",
       "         4.9874e-01,  1.4094e+00, -7.9359e-01, -1.7056e+00,  5.8257e-01,\n",
       "         6.1311e-01,  3.8376e-01,  3.5889e-01,  8.9483e-01, -5.6349e-01,\n",
       "        -4.2191e-01,  6.4900e-01, -1.0788e+00, -3.6095e-02,  1.1006e+00,\n",
       "        -1.2432e+00, -1.1278e+00,  4.2612e-01,  1.2119e+00, -2.1824e-01,\n",
       "         2.5654e-01,  1.3080e-01,  7.3262e-02,  3.3669e-02, -4.8964e-02,\n",
       "        -1.6906e-01,  9.2970e-02, -5.8182e-01,  7.7583e-01, -6.9075e-01,\n",
       "        -3.8082e-01, -1.4390e-02,  1.9657e+00,  1.2296e-01, -3.7172e-01,\n",
       "         7.8168e-01,  4.9710e-01, -8.5821e-01,  7.2155e-02,  5.7252e-01,\n",
       "        -8.4663e-02, -1.2096e+00,  1.2373e-01, -8.8014e-01, -2.6621e-01,\n",
       "         7.5548e-01, -3.1403e-01,  8.5359e-01, -1.8627e+00,  1.2698e+00,\n",
       "         3.9112e-01,  2.1501e+00,  1.0351e+00, -4.7139e-02,  8.4104e-01,\n",
       "        -2.1629e-01,  9.5751e-02, -1.1384e-01, -4.7675e-01,  3.5852e-01,\n",
       "        -1.2267e+00,  8.1183e-01, -1.2643e-01,  1.9774e+00,  3.6231e-01,\n",
       "        -1.6485e+00, -1.1826e+00,  5.5400e-01, -1.4671e+00,  1.8139e-01,\n",
       "         7.2732e-01, -6.8197e-01, -2.9041e-01, -8.2738e-02, -1.2059e+00,\n",
       "         9.9335e-01, -2.1461e-01,  1.7416e-01, -1.0370e-01, -2.2850e+00,\n",
       "         4.7140e-01,  1.6865e+00,  1.5163e+00, -2.0032e+00, -8.2263e-01,\n",
       "         1.0702e-01,  3.7921e-01,  1.1279e-01, -1.3697e-01,  2.3182e-01,\n",
       "        -4.7110e-01,  1.6297e+00, -6.0658e-01,  3.9795e-01,  6.2090e-01,\n",
       "         7.6802e-01, -1.2851e-01,  1.6120e-01,  1.8339e-01,  2.4078e-01,\n",
       "        -1.1897e+00,  3.8040e-01, -4.3372e-01,  9.4505e-01, -1.3063e+00,\n",
       "         3.5192e-01,  8.0708e-01, -1.9896e-01,  2.2746e+00,  1.4010e+00,\n",
       "         8.6680e-01, -6.1071e-01,  9.2527e-02,  2.8261e-02, -7.4094e-01,\n",
       "        -7.4480e-02,  8.0066e-01, -5.2429e-01, -1.7829e-01, -8.4382e-01,\n",
       "         8.8751e-01,  1.6055e+00,  3.6325e-01, -1.8720e+00, -1.0010e-01,\n",
       "        -3.1980e-01, -9.0627e-01, -3.1968e-01,  1.4189e+00,  9.9553e-01,\n",
       "         1.6276e+00, -6.7311e-01,  6.0990e-01,  1.7324e+00,  3.9840e-01,\n",
       "        -8.6554e-02, -8.6226e-02,  4.3684e-01, -7.0581e-01, -4.1714e-01,\n",
       "         8.0075e-01,  8.3632e-01,  9.2000e-01, -1.7453e-01, -1.3652e+00,\n",
       "        -1.4159e-01,  1.5272e+00, -1.3438e+00, -2.0343e-02,  9.9909e-01,\n",
       "         1.2971e+00, -5.1695e-01, -1.6882e+00,  9.5576e-01,  1.2055e+00,\n",
       "         6.3425e-01, -9.7559e-01,  1.8448e-01, -3.1470e-01, -5.2525e-01,\n",
       "        -2.0142e-01,  3.2844e-01,  4.3675e-02, -5.8003e-01, -5.2663e-01,\n",
       "         1.4088e-01, -1.3464e+00, -9.9956e-02,  1.0829e+00,  1.1340e+00,\n",
       "        -9.4836e-01, -9.9120e-01, -6.4392e-01,  7.5448e-01, -4.4656e-01,\n",
       "         1.4535e+00, -7.5545e-01,  1.1353e+00,  1.8749e-01,  1.9975e-01,\n",
       "         2.1563e+00, -3.2276e-01,  5.3945e-01, -9.4519e-01, -6.3030e-02,\n",
       "         1.1218e+00, -1.1728e+00,  1.1950e+00,  6.5685e-01,  4.9942e-01,\n",
       "         2.9281e-01,  7.1211e-01,  6.5560e-01,  1.4107e+00, -1.0912e+00,\n",
       "         6.7806e-01,  9.6237e-01, -1.1725e+00,  2.0007e-01,  1.0747e-01,\n",
       "         8.9171e-02, -6.9268e-01, -1.2782e+00,  8.4228e-01, -1.2113e-01,\n",
       "        -9.5933e-02, -7.9780e-01,  8.8103e-01, -3.8053e-01, -1.8632e+00,\n",
       "        -1.1774e+00, -1.8571e-01,  3.4368e-01,  1.9788e-01, -7.4826e-01,\n",
       "        -3.8113e-01, -1.2362e+00,  3.6766e-01, -1.1729e+00, -1.2429e+00,\n",
       "         1.8043e+00, -3.3521e-01, -1.0164e+00,  1.2014e-01,  4.4334e-01,\n",
       "        -3.4211e-01,  1.9608e+00, -4.8812e-02, -3.1924e-01, -2.9193e-01,\n",
       "         6.7585e-01,  6.5672e-01, -1.3424e-03,  7.2491e-01, -1.6961e-01,\n",
       "         1.5928e+00,  1.9294e-01, -3.7264e-01, -2.1933e-01,  2.0550e+00,\n",
       "         2.9437e+00, -7.1712e-01, -4.2576e-02, -9.1172e-01, -6.3746e-01,\n",
       "        -3.9204e-01, -1.9828e-02, -8.7380e-01,  1.8434e+00,  5.4150e-02,\n",
       "        -3.7225e-01, -9.1128e-01,  4.2062e-02, -2.0178e-01,  6.0738e-01,\n",
       "        -4.9396e-01,  1.3218e-01, -1.5629e+00,  5.0063e-01,  8.0093e-01,\n",
       "        -3.1619e-02, -1.5567e+00, -3.6464e-01, -1.2197e+00, -2.0663e-01,\n",
       "        -8.4719e-01, -3.3411e+00, -2.4208e-01,  5.5043e-01, -5.8688e-01,\n",
       "        -1.6729e+00, -4.0704e-01,  1.0329e+00, -6.2976e-01, -1.1038e+00,\n",
       "         1.4829e-01, -1.1248e-01,  3.1958e-01,  3.4812e-01,  1.6538e+00,\n",
       "         8.5845e-01,  1.9151e-01, -2.6732e-01,  5.5239e-01, -3.5892e-01,\n",
       "         6.6406e-01,  2.4312e-01,  2.0980e-02, -1.5226e+00,  5.5393e-01,\n",
       "        -4.1365e-01,  4.3157e-01,  2.0773e-02,  1.5720e-01,  1.0813e+00,\n",
       "         3.9908e-01,  5.2076e-01,  5.8660e-01, -1.1823e+00, -3.8668e-01,\n",
       "        -1.0271e-01,  2.0706e+00, -9.1328e-01, -2.2895e+00,  5.5401e-01,\n",
       "         3.1054e-01,  1.7788e+00, -4.8619e-01, -2.3862e+00, -1.6192e+00,\n",
       "        -2.6027e+00,  2.0706e+00, -1.1251e+00,  1.2513e+00, -5.0200e-01,\n",
       "         7.9503e-02,  1.2285e-01,  2.4688e-01, -8.7588e-01,  1.5133e+00,\n",
       "        -4.9066e-01, -1.2440e-02,  2.2085e-02,  1.2097e+00,  4.9695e-01,\n",
       "         1.0801e+00, -1.3439e+00, -5.7024e-01, -1.2510e+00,  1.6787e+00,\n",
       "        -4.4914e-01, -3.1341e-01, -3.2662e-01,  3.1609e-01,  4.5130e-01,\n",
       "         5.9561e-01,  1.6778e+00,  4.9721e-01,  1.3922e+00, -3.6840e-01,\n",
       "        -7.5397e-01, -4.1416e-01,  1.1781e+00, -5.4029e-01, -1.5506e+00,\n",
       "         7.6243e-01, -6.0777e-01, -1.0769e+00, -1.0709e+00, -1.4350e+00,\n",
       "        -1.6805e-01,  8.5620e-01, -2.0070e+00,  7.8007e-01,  8.7076e-02,\n",
       "         7.7062e-01, -3.0316e+00, -7.7499e-01,  2.1702e+00,  1.2043e+00,\n",
       "         1.6636e+00, -9.1893e-01, -1.4082e+00, -1.0045e+00, -9.5432e-01,\n",
       "         8.6174e-01, -5.6263e-01,  1.8857e-01,  1.0224e+00,  4.1580e-01,\n",
       "        -4.9827e-01,  2.1226e+00,  3.3562e-01,  1.6509e-01,  9.2051e-01,\n",
       "        -9.8750e-01,  2.7241e-01, -6.2099e-02,  1.3390e+00, -4.6391e-01,\n",
       "         1.3920e+00,  5.9551e-01,  6.3935e-01, -1.1484e+00, -1.7856e-01,\n",
       "         9.6447e-01, -7.7629e-01, -3.7354e-01,  3.6093e-01,  1.2263e-01,\n",
       "         1.6206e+00,  1.7201e+00,  3.6973e-01,  3.6128e-03,  3.2139e-01,\n",
       "         2.5006e-01,  1.6436e-01,  6.0450e-01, -1.5650e+00,  9.8896e-01,\n",
       "         3.5484e-01, -1.3725e+00,  9.2782e-01,  1.3064e+00, -3.4911e-01,\n",
       "        -5.0606e-01,  1.1427e+00, -9.8374e-01, -8.0549e-01,  1.3077e+00,\n",
       "        -1.1317e+00,  1.1092e+00,  1.0588e+00, -6.5664e-01, -5.4366e-02,\n",
       "        -1.5551e-01,  5.1467e-01,  6.5958e-01,  5.5937e-02, -6.3983e-01,\n",
       "        -1.3335e+00,  1.6333e+00,  3.5456e-02, -5.7555e-01, -1.8003e-01,\n",
       "        -6.7588e-01, -8.1267e-01,  8.6734e-01, -3.9758e-01, -1.2083e+00,\n",
       "         1.6000e+00, -5.9450e-01, -1.0997e+00,  9.1554e-01, -8.5386e-01,\n",
       "        -3.2555e-01, -7.4538e-02,  1.2166e+00,  9.0317e-01,  1.2633e+00,\n",
       "         2.7137e-01, -1.2015e+00, -2.1833e-01, -5.2065e-01, -2.6495e-01,\n",
       "        -7.2847e-02,  1.3142e+00,  4.8029e-02, -1.6080e+00, -1.0351e-01,\n",
       "         4.9604e-01, -1.1490e+00,  1.6209e+00,  2.2118e-01,  3.4884e-01,\n",
       "        -7.3500e-01,  1.2304e+00, -4.5561e-01, -2.3509e+00, -1.8103e-01,\n",
       "        -6.6687e-01, -3.8665e-01,  1.5304e+00, -1.6001e-01,  1.0355e-01,\n",
       "        -9.0259e-01, -9.0647e-01,  2.7727e-01,  3.4245e-01,  2.2231e+00,\n",
       "        -8.9580e-01, -4.8780e-01,  1.2884e+00,  1.2950e+00,  1.3517e-02,\n",
       "         4.7940e-01, -2.3065e-01,  1.7862e+00,  7.2822e-01,  6.3405e-01,\n",
       "        -1.7725e-02, -8.5804e-01, -1.5520e+00,  6.0565e-01, -1.3254e-01,\n",
       "         1.1002e+00, -1.2822e+00, -3.1687e-01,  6.7334e-01, -1.0297e+00,\n",
       "         3.3328e-01,  1.1350e+00,  1.7520e-01,  6.2342e-01,  6.0308e-01,\n",
       "        -1.2153e+00,  1.2796e+00,  6.7671e-01, -1.0684e+00, -6.5997e-01,\n",
       "         2.8889e-01, -4.2782e-01,  7.3242e-01,  5.6758e-01,  7.1432e-02,\n",
       "         1.6214e+00,  3.8811e-01, -1.5039e+00], grad_fn=<SelectBackward>)"
      ]
     },
     "execution_count": 51,
     "metadata": {},
     "output_type": "execute_result"
    }
   ],
   "source": [
    "getEmbedding(sentence,dkBERT,dkTokenizer)"
   ]
  },
  {
   "cell_type": "markdown",
   "metadata": {},
   "source": [
    "### Sandbox to play around with embeddings"
   ]
  },
  {
   "cell_type": "code",
   "execution_count": null,
   "metadata": {},
   "outputs": [],
   "source": []
  },
  {
   "cell_type": "code",
   "execution_count": 155,
   "metadata": {},
   "outputs": [
    {
     "name": "stdout",
     "output_type": "stream",
     "text": [
      "['[CLS]', 'rum', '##rejse', '[SEP]']\n",
      "torch.Size([768])\n"
     ]
    }
   ],
   "source": [
    "sentenceEmbedding1 = getEmbedding(\"rumrejse\",dkBERT,dkTokenizer)"
   ]
  },
  {
   "cell_type": "code",
   "execution_count": 156,
   "metadata": {},
   "outputs": [
    {
     "name": "stdout",
     "output_type": "stream",
     "text": [
      "['[CLS]', 'astron', '##aut', 'lander', 'pa', 'man', '##en', '[SEP]']\n",
      "torch.Size([768])\n"
     ]
    }
   ],
   "source": [
    "sentenceEmbedding2 = getEmbedding(\"astronaut lander på månen\",dkBERT,dkTokenizer)"
   ]
  },
  {
   "cell_type": "code",
   "execution_count": 160,
   "metadata": {},
   "outputs": [],
   "source": [
    "import numpy as np\n",
    "from numpy import dot\n",
    "from numpy.linalg import norm\n",
    "\n",
    "def cosSim(vector1, vector2):\n",
    "    \n",
    "    cos_sim = dot(vector1,vector2)/(norm(vector1)*norm(vector2))\n",
    "    \n",
    "    return cos_sim"
   ]
  },
  {
   "cell_type": "markdown",
   "metadata": {},
   "source": [
    "#### Similarity"
   ]
  },
  {
   "cell_type": "code",
   "execution_count": 161,
   "metadata": {},
   "outputs": [
    {
     "data": {
      "text/plain": [
       "0.6316648"
      ]
     },
     "execution_count": 161,
     "metadata": {},
     "output_type": "execute_result"
    }
   ],
   "source": [
    "sentenceEmbeddingWord1 = sentenceEmbedding1.detach().numpy()\n",
    "sentenceEmbeddingWord2 = sentenceEmbedding2.detach().numpy()\n",
    "\n",
    "cosSim(sentenceEmbeddingWord1,sentenceEmbeddingWord2)"
   ]
  },
  {
   "cell_type": "markdown",
   "metadata": {},
   "source": [
    "### Fine-tuning for downstream tasks"
   ]
  },
  {
   "cell_type": "code",
   "execution_count": null,
   "metadata": {},
   "outputs": [],
   "source": [
    "## To be done "
   ]
  },
  {
   "cell_type": "markdown",
   "metadata": {},
   "source": [
    "#### NER"
   ]
  },
  {
   "cell_type": "code",
   "execution_count": null,
   "metadata": {},
   "outputs": [],
   "source": [
    "## To be done"
   ]
  }
 ],
 "metadata": {
  "kernelspec": {
   "display_name": "Python 3",
   "language": "python",
   "name": "python3"
  },
  "language_info": {
   "codemirror_mode": {
    "name": "ipython",
    "version": 3
   },
   "file_extension": ".py",
   "mimetype": "text/x-python",
   "name": "python",
   "nbconvert_exporter": "python",
   "pygments_lexer": "ipython3",
   "version": "3.6.9"
  }
 },
 "nbformat": 4,
 "nbformat_minor": 2
}
